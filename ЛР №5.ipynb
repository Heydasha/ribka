{
 "cells": [
  {
   "cell_type": "markdown",
   "metadata": {
    "id": "lhLob9zN-iVt"
   },
   "source": [
    "#ЛР №5\n",
    "\n",
    "Исключения. Функциональный стиль в Python (на примере map()). Lambda. Итераторы и генераторы. Обзор стандартной библиотеки Python 3 и часто используемых сторонних модулей. Регулярные выражения."
   ]
  },
  {
   "cell_type": "markdown",
   "metadata": {
    "id": "PCgUvqQWgI2Z"
   },
   "source": [
    "#Задача №1 (try except)\n",
    "\n",
    "Напсать функцию подсчета суммы числовых элементов списка. Элементы списка могут быть любым типом данных. Если в списке встретиться элемент не числового типа, то необходимо вычесть из накопленной суммы 1.\n",
    "\n",
    "В функции использовать try except блок."
   ]
  },
  {
   "cell_type": "code",
   "execution_count": 10,
   "metadata": {},
   "outputs": [
    {
     "data": {
      "text/plain": [
       "9"
      ]
     },
     "execution_count": 10,
     "metadata": {},
     "output_type": "execute_result"
    }
   ],
   "source": [
    "def num(N):\n",
    "    sum = 0\n",
    "    for i in N:\n",
    "        try:\n",
    "            sum = sum + i\n",
    "        except TypeError:\n",
    "            sum = sum - 1\n",
    "    return sum\n",
    "N = [1,2,3,4,'hu']\n",
    "num(N)"
   ]
  },
  {
   "cell_type": "markdown",
   "metadata": {
    "id": "PyAYZaBty1Yu"
   },
   "source": [
    "Задание со звездочкой*\n",
    "\n",
    "Если все элементы списка не числовые то выбросить исключение с тектом 'Элементы списка нельзя суммировать'."
   ]
  },
  {
   "cell_type": "code",
   "execution_count": 24,
   "metadata": {},
   "outputs": [
    {
     "name": "stdout",
     "output_type": "stream",
     "text": [
      "None\n"
     ]
    }
   ],
   "source": [
    "def num(N):\n",
    "    sum = 0\n",
    "    flag = 0\n",
    "    for i in N:\n",
    "        try:\n",
    "            sum = sum + i\n",
    "            flag = 0\n",
    "        except TypeError:\n",
    "            flag =flag + 1\n",
    "    if flag == len(N):\n",
    "            print(\"Do not use\")\n",
    "            \n",
    "N = [1,2,3,4,'no']\n",
    "c = num(N)\n",
    "print(c)"
   ]
  },
  {
   "cell_type": "markdown",
   "metadata": {
    "id": "04iiP9iDpebQ"
   },
   "source": [
    "#Задача №2 (map)\n",
    "\n",
    "Примените функцию к списку словарей"
   ]
  },
  {
   "cell_type": "code",
   "execution_count": null,
   "metadata": {
    "id": "dxF6du8_xj19"
   },
   "outputs": [],
   "source": [
    "def foo(d):\n",
    "  d.update({'new_key':'with_map'})\n",
    "  return d"
   ]
  },
  {
   "cell_type": "code",
   "execution_count": 56,
   "metadata": {},
   "outputs": [
    {
     "name": "stdout",
     "output_type": "stream",
     "text": [
      "[{'1': '1', 'new_key': 'with_map'}, {'2': '2', 'new_key': 'with_map'}, {'3': '3', 'new_key': 'with_map'}]\n"
     ]
    }
   ],
   "source": [
    "li = [{'1': '1'}, {'2': '2'}, {'3': '3'}]\n",
    "l = list(map(foo,li))\n",
    "print(l)"
   ]
  },
  {
   "cell_type": "markdown",
   "metadata": {
    "id": "rSctr2YVqiIq"
   },
   "source": [
    "#Задача №3 (filter)\n",
    "\n",
    "Сформировать список положительных элементов списка a\n",
    "\n",
    "a = [-1, 2, -3, 4, 5]"
   ]
  },
  {
   "cell_type": "code",
   "execution_count": 55,
   "metadata": {},
   "outputs": [
    {
     "name": "stdout",
     "output_type": "stream",
     "text": [
      "[2, 4, 5]\n"
     ]
    }
   ],
   "source": [
    "a = [-1, 2, -3, 4, 5]\n",
    "c = list(filter( lambda x: x>0, a))        \n",
    "print(c)"
   ]
  },
  {
   "cell_type": "markdown",
   "metadata": {
    "id": "pWlSncGPq-eV"
   },
   "source": [
    "#Задача №4 (Lambda)\n",
    "\n",
    "Переписать функцию foo в виде lambda и применить ее к 2 произвольным спискам"
   ]
  },
  {
   "cell_type": "code",
   "execution_count": 57,
   "metadata": {
    "colab": {
     "base_uri": "https://localhost:8080/"
    },
    "executionInfo": {
     "elapsed": 274,
     "status": "ok",
     "timestamp": 1695936444777,
     "user": {
      "displayName": "Anastasia Moshkova",
      "userId": "17895988911170149439"
     },
     "user_tz": -180
    },
    "id": "Sa9twmKXrjLE",
    "outputId": "80d0b197-123e-4111-d922-4ed7c873ed54"
   },
   "outputs": [
    {
     "data": {
      "text/plain": [
       "[1, 0, 1]"
      ]
     },
     "execution_count": 57,
     "metadata": {},
     "output_type": "execute_result"
    }
   ],
   "source": [
    "def foo(a, b):\n",
    "  c = []\n",
    "  for i in range(len(a)):\n",
    "    if a[i] > b[i]:\n",
    "      c.append(0)\n",
    "    else:\n",
    "      c.append(1)\n",
    "  return c\n",
    "\n",
    "foo([1, 2, 3], [4, 1, 6])"
   ]
  },
  {
   "cell_type": "code",
   "execution_count": 61,
   "metadata": {},
   "outputs": [
    {
     "name": "stdout",
     "output_type": "stream",
     "text": [
      "[1, 0, 1]\n"
     ]
    }
   ],
   "source": [
    "f = list(map(lambda x,y: 0 if x>y else 1,[1, 2, 3],[4, 1, 6]))\n",
    "print(f)"
   ]
  },
  {
   "cell_type": "markdown",
   "metadata": {
    "id": "GmvaSatNva0p"
   },
   "source": [
    "##Задача №5 (генератор и итератор)\n",
    "\n",
    "Напишите бесконечный генератор чисел, убывающих в геометрической прогрессии"
   ]
  },
  {
   "cell_type": "code",
   "execution_count": 71,
   "metadata": {},
   "outputs": [
    {
     "name": "stdout",
     "output_type": "stream",
     "text": [
      "5\n",
      "2.5\n",
      "1.25\n",
      "0.625\n",
      "0.3125\n",
      "0.15625\n",
      "0.078125\n",
      "0.0390625\n",
      "0.01953125\n",
      "0.009765625\n"
     ]
    }
   ],
   "source": [
    "def in_generator(val,q):\n",
    "  while 1:\n",
    "      yield val\n",
    "      val = val*q\n",
    "a = in_generator(5,0.5)\n",
    "for i in range(10):\n",
    "    print(next(a))"
   ]
  },
  {
   "cell_type": "markdown",
   "metadata": {
    "id": "THYXHisVvm2V"
   },
   "source": [
    "##Задача №6 (регулярные выражения)\n",
    "\n",
    "Найдите в строке все цифры начинающиеся с 1 \"anf 17u fkjgktjg 123 gvbnn 81 jfjgj 12\" -> 17, 123, 12\n",
    "\n"
   ]
  },
  {
   "cell_type": "code",
   "execution_count": 1,
   "metadata": {},
   "outputs": [
    {
     "data": {
      "text/plain": [
       "['17', '123', '12']"
      ]
     },
     "execution_count": 1,
     "metadata": {},
     "output_type": "execute_result"
    }
   ],
   "source": [
    "import re\n",
    "\n",
    "re.findall('1\\d+', 'anf 17u fkjgktjg 123 gvbnn 81 jfjgj 12')"
   ]
  },
  {
   "cell_type": "markdown",
   "metadata": {
    "id": "kRQZFphhuuz8"
   },
   "source": [
    "Задание со звездочкой *\n",
    "\n",
    "Примените lambda с использованием map к произвольным спискам\n",
    "1. Отсортируйте список по сумме 1 и 3 элемента списка в кортеже\n",
    "2. по разности первого элемента кортежа и первого элемента списка в кортеже"
   ]
  },
  {
   "cell_type": "code",
   "execution_count": 1,
   "metadata": {},
   "outputs": [],
   "source": [
    "a = [(1, [3, 10, 5]), (3, [1 ,4, 6]), (6, [15 ,4, 7])]"
   ]
  },
  {
   "cell_type": "markdown",
   "metadata": {},
   "source": [
    "** Задача \"Парсер логов\" в папке"
   ]
  },
  {
   "cell_type": "code",
   "execution_count": null,
   "metadata": {},
   "outputs": [],
   "source": []
  }
 ],
 "metadata": {
  "colab": {
   "authorship_tag": "ABX9TyM4pOhO57+cIbVj7wbEduVL",
   "provenance": []
  },
  "kernelspec": {
   "display_name": "Python 3 (ipykernel)",
   "language": "python",
   "name": "python3"
  },
  "language_info": {
   "codemirror_mode": {
    "name": "ipython",
    "version": 3
   },
   "file_extension": ".py",
   "mimetype": "text/x-python",
   "name": "python",
   "nbconvert_exporter": "python",
   "pygments_lexer": "ipython3",
   "version": "3.11.7"
  }
 },
 "nbformat": 4,
 "nbformat_minor": 4
}
